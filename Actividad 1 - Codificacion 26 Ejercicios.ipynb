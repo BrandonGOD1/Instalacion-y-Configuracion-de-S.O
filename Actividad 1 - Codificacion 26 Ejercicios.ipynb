{
  "cells": [
    {
      "cell_type": "code",
      "source": [
        "print(\"Hello World!\")\n",
        "print(\"Hello Again\")\n",
        "print(\"I like typing this.\")\n",
        "print(\"This is fun.\")\n",
        "print('Yay! Printing.')\n",
        "print(\"I'd much rather you 'not'.\")\n",
        "print('I \"said\" do not touch this.')"
      ],
      "metadata": {
        "colab": {
          "base_uri": "https://localhost:8080/"
        },
        "id": "n7sE-3JQ_fen",
        "outputId": "849a9714-4d29-43bb-a9ac-b0f4505bdf52"
      },
      "execution_count": 1,
      "outputs": [
        {
          "output_type": "stream",
          "name": "stdout",
          "text": [
            "Hello World!\n",
            "Hello Again\n",
            "I like typing this.\n",
            "This is fun.\n",
            "Yay! Printing.\n",
            "I'd much rather you 'not'.\n",
            "I \"said\" do not touch this.\n"
          ]
        }
      ]
    },
    {
      "cell_type": "code",
      "source": [
        "# A comment, this is so you can read your program later.\n",
        "# Anything after the # is ignored by python.\n",
        "\n",
        "print(\"I could have code like this.\") # and the comment after is ignored\n",
        "\n",
        "# You can also use a comment to \"disable\" or comment out code:\n",
        "# print(\"This won't run.\")\n",
        "\n",
        "print(\"This will run.\")"
      ],
      "metadata": {
        "colab": {
          "base_uri": "https://localhost:8080/"
        },
        "id": "t0MFdNSK_-1A",
        "outputId": "308aef58-b811-4980-b270-b1c507d7f7bd"
      },
      "execution_count": 2,
      "outputs": [
        {
          "output_type": "stream",
          "name": "stdout",
          "text": [
            "I could have code like this.\n",
            "This will run.\n"
          ]
        }
      ]
    },
    {
      "cell_type": "code",
      "source": [
        "print(\"I will now count my chickens:\")\n",
        "\n",
        "print(\"Hens\", 25 + 30 / 6)\n",
        "print(\"Roosters\", 100 - 25 * 3 % 4)\n",
        "\n",
        "print(\"Now I will count the eggs:\")\n",
        "\n",
        "print(3 + 2 + 1 - 5 + 4 % 2 - 1 / 4 + 6)\n",
        "\n",
        "print(\"Is it true that 3 + 2 < 5 - 7?\")\n",
        "\n",
        "print(3 + 2 < 5 - 7)\n",
        "\n",
        "print(\"What is 3 + 2?\", 3 + 2)\n",
        "print(\"What is 5 - 7?\", 5 - 7)\n",
        "\n",
        "print(\"Oh, that's why it's False.\")\n",
        "\n",
        "print(\"How about some more.\")\n",
        "\n",
        "print(\"Is it greater?\", 5 > -2)\n",
        "print(\"Is it greater or equal?\", 5 >= -2)\n",
        "print(\"Is it less or equal?\", 5 <= -2)"
      ],
      "metadata": {
        "colab": {
          "base_uri": "https://localhost:8080/"
        },
        "id": "BNlk3sW7ANC3",
        "outputId": "75dfe730-4ddc-4d15-f0e8-7ab0eb5bb392"
      },
      "execution_count": 3,
      "outputs": [
        {
          "output_type": "stream",
          "name": "stdout",
          "text": [
            "I will now count my chickens:\n",
            "Hens 30.0\n",
            "Roosters 97\n",
            "Now I will count the eggs:\n",
            "6.75\n",
            "Is it true that 3 + 2 < 5 - 7?\n",
            "False\n",
            "What is 3 + 2? 5\n",
            "What is 5 - 7? -2\n",
            "Oh, that's why it's False.\n",
            "How about some more.\n",
            "Is it greater? True\n",
            "Is it greater or equal? True\n",
            "Is it less or equal? False\n"
          ]
        }
      ]
    },
    {
      "cell_type": "code",
      "source": [
        "cars = 100\n",
        "space_in_a_car = 4.0\n",
        "drivers = 30\n",
        "passengers = 90\n",
        "cars_not_driven = cars - drivers\n",
        "cars_driven = drivers\n",
        "carpool_capacity = cars_driven * space_in_a_car\n",
        "average_passengers_per_car = passengers / cars_driven\n",
        "\n",
        "\n",
        "print(\"There are\", cars, \"cars available.\")\n",
        "print(\"There are only\", drivers, \"drivers available.\")\n",
        "print(\"There will be\", cars_not_driven, \"empty cars today.\")\n",
        "print(\"We can transport\", carpool_capacity, \"people today.\")\n",
        "print(\"We have\", passengers, \"to carpool today.\")\n",
        "print(\"We need to put about\", average_passengers_per_car,\n",
        "      \"in each car.\")"
      ],
      "metadata": {
        "colab": {
          "base_uri": "https://localhost:8080/"
        },
        "id": "hHhwNnCAARX3",
        "outputId": "13a852e6-3670-4a39-b4e7-c355bc807e8c"
      },
      "execution_count": 4,
      "outputs": [
        {
          "output_type": "stream",
          "name": "stdout",
          "text": [
            "There are 100 cars available.\n",
            "There are only 30 drivers available.\n",
            "There will be 70 empty cars today.\n",
            "We can transport 120.0 people today.\n",
            "We have 90 to carpool today.\n",
            "We need to put about 3.0 in each car.\n"
          ]
        }
      ]
    },
    {
      "cell_type": "code",
      "source": [
        "my_name = 'Zed A. Shaw'\n",
        "my_age = 35 # not a lie\n",
        "my_height = 74 # inches\n",
        "my_weight = 180 # lbs\n",
        "my_eyes = 'Blue'\n",
        "my_teeth = 'White'\n",
        "my_hair = 'Brown'\n",
        "\n",
        "print(f\"Let's talk about {my_name}.\")\n",
        "print(f\"He's {my_height} inches tall.\")\n",
        "print(f\"He's {my_weight} pounds heavy.\")\n",
        "print(\"Actually that's not too heavy.\")\n",
        "print(f\"He's got {my_eyes} eyes and {my_hair} hair.\")\n",
        "print(f\"His teeth are usually {my_teeth} depending on the coffee.\")\n",
        "\n",
        "# this line is tricky, try to get it exactly right\n",
        "total = my_age + my_height + my_weight\n",
        "print(f\"If I add {my_age}, {my_height}, and {my_weight} I get {total}.\")"
      ],
      "metadata": {
        "colab": {
          "base_uri": "https://localhost:8080/"
        },
        "id": "frITx04DAUw3",
        "outputId": "24f24ccd-ef2e-4eb5-e170-e7bc50ef4024"
      },
      "execution_count": 5,
      "outputs": [
        {
          "output_type": "stream",
          "name": "stdout",
          "text": [
            "Let's talk about Zed A. Shaw.\n",
            "He's 74 inches tall.\n",
            "He's 180 pounds heavy.\n",
            "Actually that's not too heavy.\n",
            "He's got Blue eyes and Brown hair.\n",
            "His teeth are usually White depending on the coffee.\n",
            "If I add 35, 74, and 180 I get 289.\n"
          ]
        }
      ]
    },
    {
      "cell_type": "code",
      "source": [
        "types_of_people = 10\n",
        "x = f\"There are {types_of_people} types of people.\"\n",
        "\n",
        "binary = \"binary\"\n",
        "do_not = \"don't\"\n",
        "y = f\"Those who know {binary} and those who {do_not}.\"\n",
        "\n",
        "print(x)\n",
        "print(y)\n",
        "\n",
        "print(f\"I said: {x}\")\n",
        "print(f\"I also said: '{y}'\")\n",
        "\n",
        "hilarious = False\n",
        "joke_evaluation = \"Isn't that joke so funny?! {}\"\n",
        "\n",
        "\n",
        "print(joke_evaluation.format(hilarious))\n",
        "\n",
        "w = \"This is the left side of...\"\n",
        "e = \"a string with a right side.\"\n",
        "\n",
        "print(w + e)"
      ],
      "metadata": {
        "colab": {
          "base_uri": "https://localhost:8080/"
        },
        "id": "TjXF15-WAY3f",
        "outputId": "7d1f5d7f-b685-459b-a205-4f46e97fc766"
      },
      "execution_count": 6,
      "outputs": [
        {
          "output_type": "stream",
          "name": "stdout",
          "text": [
            "There are 10 types of people.\n",
            "Those who know binary and those who don't.\n",
            "I said: There are 10 types of people.\n",
            "I also said: 'Those who know binary and those who don't.'\n",
            "Isn't that joke so funny?! False\n",
            "This is the left side of...a string with a right side.\n"
          ]
        }
      ]
    },
    {
      "cell_type": "code",
      "source": [
        "print(\"Mary had a little lamb.\")\n",
        "print(\"Its fleece was white as {}.\".format('snow'))\n",
        "print(\"And everywhere that Mary went.\")\n",
        "print(\".\" * 10) # what'd that do?\n",
        "\n",
        "end1 = \"C\"\n",
        "end2 = \"h\"\n",
        "end3 = \"e\"\n",
        "end4 = \"e\"\n",
        "end5 = \"s\"\n",
        "end6 = \"e\"\n",
        "end7 = \"B\"\n",
        "end8 = \"u\"\n",
        "end9 = \"r\"\n",
        "end10 = \"g\"\n",
        "end11 = \"e\"\n",
        "end12 = \"r\"\n",
        "\n",
        "# watch end = ' ' at the end. try removing it to see what happens\n",
        "print(end1 + end2 + end3 + end4 + end5 + end6, end=' ')\n",
        "print(end7 + end8 + end9 + end10 + end11 + end12)"
      ],
      "metadata": {
        "colab": {
          "base_uri": "https://localhost:8080/"
        },
        "id": "4h_zBMylAd5X",
        "outputId": "a78bc566-1436-4036-aa3e-2162b0f5f457"
      },
      "execution_count": 7,
      "outputs": [
        {
          "output_type": "stream",
          "name": "stdout",
          "text": [
            "Mary had a little lamb.\n",
            "Its fleece was white as snow.\n",
            "And everywhere that Mary went.\n",
            "..........\n",
            "Cheese Burger\n"
          ]
        }
      ]
    },
    {
      "cell_type": "code",
      "source": [
        "formatter = \"{} {} {} {}\"\n",
        "\n",
        "print(formatter.format(1, 2, 3, 4))\n",
        "print(formatter.format(\"one\", \"two\", \"three\", \"four\"))\n",
        "print(formatter.format(True, False, False, True))\n",
        "print(formatter.format(formatter, formatter, formatter, formatter))\n",
        "print(formatter.format(\n",
        "    \"Try your\",\n",
        "    \"Own text here\",\n",
        "    \"Maybe a poem\",\n",
        "    \"Or a song about fear\"\n",
        "    ))"
      ],
      "metadata": {
        "colab": {
          "base_uri": "https://localhost:8080/"
        },
        "id": "knt0tcNeAhh3",
        "outputId": "7347788c-62c9-48ad-85c4-71973ab24130"
      },
      "execution_count": 8,
      "outputs": [
        {
          "output_type": "stream",
          "name": "stdout",
          "text": [
            "1 2 3 4\n",
            "one two three four\n",
            "True False False True\n",
            "{} {} {} {} {} {} {} {} {} {} {} {} {} {} {} {}\n",
            "Try your Own text here Maybe a poem Or a song about fear\n"
          ]
        }
      ]
    },
    {
      "cell_type": "code",
      "source": [
        "# Here's some new strange stuff, remember type it exactly.\n",
        "\n",
        "days = \"Mon Tue Wed Thu Fri Sat Sun\"\n",
        "months = \"Jan\\nFeb\\nMar\\nApr\\nMay\\nJun\\nJul\\nAug\"\n",
        "\n",
        "print(\"Here are the days: \", days)\n",
        "print(\"Here are the months: \", months)\n",
        "\n",
        "print(\"\"\"\n",
        "      There's something going on here.\n",
        "      With the three double-quotes.\n",
        "      We'll be able to type as much as we like.\n",
        "      Even 4 lines if we want, or 5, or 6.\n",
        "      \"\"\")"
      ],
      "metadata": {
        "colab": {
          "base_uri": "https://localhost:8080/"
        },
        "id": "L3K21-OIAmlw",
        "outputId": "cb1572a6-fc93-4b00-d7f9-4c7033c1a700"
      },
      "execution_count": 9,
      "outputs": [
        {
          "output_type": "stream",
          "name": "stdout",
          "text": [
            "Here are the days:  Mon Tue Wed Thu Fri Sat Sun\n",
            "Here are the months:  Jan\n",
            "Feb\n",
            "Mar\n",
            "Apr\n",
            "May\n",
            "Jun\n",
            "Jul\n",
            "Aug\n",
            "\n",
            "      There's something going on here.\n",
            "      With the three double-quotes.\n",
            "      We'll be able to type as much as we like.\n",
            "      Even 4 lines if we want, or 5, or 6.\n",
            "      \n"
          ]
        }
      ]
    },
    {
      "cell_type": "code",
      "source": [
        "tabby_cat = \"\\tI'm tabbed in.\"\n",
        "persian_cat = \"I'm split\\non a line.\"\n",
        "backslash_cat = \"I'm \\\\ a \\\\ cat.\"\n",
        "\n",
        "fat_cat = \"\"\"\n",
        "I'll do a list:\n",
        "\\t* Cat food\n",
        "\\t* Fishies\n",
        "\\t* Catnip\\n\\t* Grass\n",
        "\"\"\"\n",
        "\n",
        "print(tabby_cat)\n",
        "print(persian_cat)\n",
        "print(backslash_cat)\n",
        "print(fat_cat)"
      ],
      "metadata": {
        "colab": {
          "base_uri": "https://localhost:8080/"
        },
        "id": "Z7i1vpc2AoRw",
        "outputId": "a96bfed1-e81f-4113-c429-06ecb48933fe"
      },
      "execution_count": 10,
      "outputs": [
        {
          "output_type": "stream",
          "name": "stdout",
          "text": [
            "\tI'm tabbed in.\n",
            "I'm split\n",
            "on a line.\n",
            "I'm \\ a \\ cat.\n",
            "\n",
            "I'll do a list:\n",
            "\t* Cat food\n",
            "\t* Fishies\n",
            "\t* Catnip\n",
            "\t* Grass\n",
            "\n"
          ]
        }
      ]
    },
    {
      "cell_type": "code",
      "source": [
        "print(\"How old are you?\", end=' ')\n",
        "age = input()\n",
        "print(\"How tall are you?\", end=' ')\n",
        "height = input()\n",
        "print(\"How much do you weigh?\", end=' ')\n",
        "weight = input()\n",
        "\n",
        "print(f\"So, you're {age} old, {height} tall and {weight} heavy.\")"
      ],
      "metadata": {
        "colab": {
          "base_uri": "https://localhost:8080/"
        },
        "id": "8napSeztAsen",
        "outputId": "89e1843f-c1e4-457e-fde1-76136c61a012"
      },
      "execution_count": 11,
      "outputs": [
        {
          "output_type": "stream",
          "name": "stdout",
          "text": [
            "How old are you? brando\n",
            "How tall are you? 160\n",
            "How much do you weigh? 50\n",
            "So, you're brando old, 160 tall and 50 heavy.\n"
          ]
        }
      ]
    },
    {
      "cell_type": "code",
      "source": [
        "age = input(\"How old are you? \")\n",
        "height = input(\"How tall are you? \")\n",
        "weight = input(\"How much do you weigh? \")\n",
        "\n",
        "print(f\"So, you're {age} old, {height} tall and {weight} heavy.\")"
      ],
      "metadata": {
        "colab": {
          "base_uri": "https://localhost:8080/"
        },
        "id": "Xos_jye_A-Vf",
        "outputId": "37fb30a4-47da-4934-92df-cc91158a0c05"
      },
      "execution_count": 12,
      "outputs": [
        {
          "output_type": "stream",
          "name": "stdout",
          "text": [
            "How old are you? brando\n",
            "How tall are you? 160 cm\n",
            "How much do you weigh? 50\n",
            "So, you're brando old, 160 cm tall and 50 heavy.\n"
          ]
        }
      ]
    },
    {
      "cell_type": "code",
      "source": [
        "def cheese_and_crackers(cheese_count, boxes_of_crackers):\n",
        "    print(f\"You have {cheese_count} cheeses!\")\n",
        "    print(f\"You have {boxes_of_crackers} boxes of crackers!\")\n",
        "    print(\"Man that's enough for a party!\")\n",
        "    print(\"Get a blanket.\\n\")\n",
        "\n",
        "\n",
        "print(\"We can just give the function numbers directly:\")\n",
        "cheese_and_crackers(20, 30)\n",
        "\n",
        "\n",
        "print(\"OR, we can use variables from our script:\")\n",
        "amount_of_cheese = 10\n",
        "amount_of_crackers = 50\n",
        "\n",
        "cheese_and_crackers(amount_of_cheese, amount_of_crackers)\n",
        "\n",
        "\n",
        "print(\"We can even do math inside too:\")\n",
        "cheese_and_crackers(10 + 20, 5 + 6)\n",
        "\n",
        "\n",
        "print(\"And we can combine the two, variables and math:\")\n",
        "cheese_and_crackers(amount_of_cheese + 100, amount_of_crackers + 1000)"
      ],
      "metadata": {
        "colab": {
          "base_uri": "https://localhost:8080/"
        },
        "id": "H41L6kg9BLvH",
        "outputId": "12ec755f-7d2d-40a9-d11a-359b585397d4"
      },
      "execution_count": 13,
      "outputs": [
        {
          "output_type": "stream",
          "name": "stdout",
          "text": [
            "We can just give the function numbers directly:\n",
            "You have 20 cheeses!\n",
            "You have 30 boxes of crackers!\n",
            "Man that's enough for a party!\n",
            "Get a blanket.\n",
            "\n",
            "OR, we can use variables from our script:\n",
            "You have 10 cheeses!\n",
            "You have 50 boxes of crackers!\n",
            "Man that's enough for a party!\n",
            "Get a blanket.\n",
            "\n",
            "We can even do math inside too:\n",
            "You have 30 cheeses!\n",
            "You have 11 boxes of crackers!\n",
            "Man that's enough for a party!\n",
            "Get a blanket.\n",
            "\n",
            "And we can combine the two, variables and math:\n",
            "You have 110 cheeses!\n",
            "You have 1050 boxes of crackers!\n",
            "Man that's enough for a party!\n",
            "Get a blanket.\n",
            "\n"
          ]
        }
      ]
    },
    {
      "cell_type": "code",
      "source": [
        "def add(a, b):\n",
        "    print(f\"ADDING {a} + {b}\")\n",
        "    return a + b\n",
        "\n",
        "def subtract(a, b):\n",
        "    print(f\"SUBTRACTING {a} - {b}\")\n",
        "    return a - b\n",
        "\n",
        "def multiply(a, b):\n",
        "    print(f\"MULTIPLYING {a} * {b}\")\n",
        "    return a * b\n",
        "\n",
        "def divide(a, b):\n",
        "    print(f\"DIVIDING {a} / {b}\")\n",
        "    return a / b\n",
        "\n",
        "\n",
        "print(\"Let's do some math with just functions!\")\n",
        "\n",
        "age = add(30, 5)\n",
        "height = subtract(78, 4)\n",
        "weight = multiply(90, 2)\n",
        "iq = divide(100, 2)\n",
        "\n",
        "print(f\"Age: {age}, Height: {height}, Weight: {weight}, IQ: {iq}\")\n",
        "\n",
        "# A puzzle for the extra credit, type it in anyway.\n",
        "print(\"Here is a puzzle.\")\n",
        "\n",
        "what = add(age, subtract(height, multiply(weight, divide(iq, 2))))\n",
        "\n",
        "print(\"That becomes: \", what, \"Can you do it by hand?\")"
      ],
      "metadata": {
        "colab": {
          "base_uri": "https://localhost:8080/"
        },
        "id": "hV9iIpebBP_o",
        "outputId": "a7ef2787-5132-4944-920b-e18824459b12"
      },
      "execution_count": 14,
      "outputs": [
        {
          "output_type": "stream",
          "name": "stdout",
          "text": [
            "Let's do some math with just functions!\n",
            "ADDING 30 + 5\n",
            "SUBTRACTING 78 - 4\n",
            "MULTIPLYING 90 * 2\n",
            "DIVIDING 100 / 2\n",
            "Age: 35, Height: 74, Weight: 180, IQ: 50.0\n",
            "Here is a puzzle.\n",
            "DIVIDING 50.0 / 2\n",
            "MULTIPLYING 180 * 25.0\n",
            "SUBTRACTING 74 - 4500.0\n",
            "ADDING 35 + -4426.0\n",
            "That becomes:  -4391.0 Can you do it by hand?\n"
          ]
        }
      ]
    },
    {
      "cell_type": "code",
      "source": [
        "print(\"Let's practice everything.\")\n",
        "print('You\\'d need to know \\'bout escapes with \\\\ that do:')\n",
        "print('\\n newlines and \\t tabs.')\n",
        "\n",
        "poem = \"\"\"\n",
        "\\tThe lovely world\n",
        "with logic so firmly planted\n",
        "cannot discern \\n the needs of love\n",
        "nor comprehend passion from intuition\n",
        "and requires an explanation\n",
        "\\n\\t\\twhere there is none.\n",
        "\"\"\"\n",
        "\n",
        "print(\"--------------\")\n",
        "print(poem)\n",
        "print(\"--------------\")\n",
        "\n",
        "\n",
        "five = 10 - 2 + 3 - 6\n",
        "print(f\"This should be five: {five}\")\n",
        "\n",
        "def secret_formula(started):\n",
        "    jelly_beans = started * 500\n",
        "    jars = jelly_beans / 1000\n",
        "    crates = jars / 100\n",
        "    return jelly_beans, jars, crates\n",
        "\n",
        "\n",
        "start_point = 10000\n",
        "beans, jars, crates = secret_formula(start_point)\n",
        "\n",
        "# remember that this is another way to format a string\n",
        "print(\"With a starting point of: {}\".format(start_point))\n",
        "# it's just like with an f\"\" string\n",
        "print(f\"We'd have {beans} beans, {jars} jars, and {crates} crates.\")\n",
        "\n",
        "start_point = start_point / 10\n",
        "\n",
        "\n",
        "print(\"We can also do that this way:\")\n",
        "formula = secret_formula(start_point)\n",
        "# this is an easy way to apply a list to a format string\n",
        "print(\"We'd have {} beans, {} jars, and {} crates.\".format(*formula))"
      ],
      "metadata": {
        "colab": {
          "base_uri": "https://localhost:8080/"
        },
        "id": "0xJWmo-KBTUH",
        "outputId": "76c384fe-1c97-4d4d-e0bf-071cdf1c8013"
      },
      "execution_count": 15,
      "outputs": [
        {
          "output_type": "stream",
          "name": "stdout",
          "text": [
            "Let's practice everything.\n",
            "You'd need to know 'bout escapes with \\ that do:\n",
            "\n",
            " newlines and \t tabs.\n",
            "--------------\n",
            "\n",
            "\tThe lovely world\n",
            "with logic so firmly planted\n",
            "cannot discern \n",
            " the needs of love\n",
            "nor comprehend passion from intuition\n",
            "and requires an explanation\n",
            "\n",
            "\t\twhere there is none.\n",
            "\n",
            "--------------\n",
            "This should be five: 5\n",
            "With a starting point of: 10000\n",
            "We'd have 5000000 beans, 5000.0 jars, and 50.0 crates.\n",
            "We can also do that this way:\n",
            "We'd have 500000.0 beans, 500.0 jars, and 5.0 crates.\n"
          ]
        }
      ]
    },
    {
      "cell_type": "code",
      "source": [
        "def break_words(stuff):\n",
        "    \"\"\"This function will break up words for us.\"\"\"\n",
        "    words = stuff.split(' ')\n",
        "    return words\n",
        "\n",
        "def sort_words(words):\n",
        "    \"\"\"Sorts the words.\"\"\"\n",
        "    return sorted(words)\n",
        "\n",
        "def print_first_word(words):\n",
        "    \"\"\"Prints the first word after popping it off.\"\"\"\n",
        "    word = words.pop(0)\n",
        "    print(word)\n",
        "\n",
        "def print_last_word(words):\n",
        "    \"\"\"Prints the last word after popping it off.\"\"\"\n",
        "    word = words.pop(-1)\n",
        "    print(word)\n",
        "\n",
        "def sort_sentence(sentence):\n",
        "    \"\"\"Takes in a full sentence and returns the sorted words.\"\"\"\n",
        "    words = break_words(sentence)\n",
        "    return sort_words(words)\n",
        "\n",
        "def print_first_and_last(sentence):\n",
        "    \"\"\"Prints the first and last words of the sentence.\"\"\"\n",
        "    words = break_words(sentence)\n",
        "    print_first_word(words)\n",
        "    print_last_word(words)\n",
        "\n",
        "def print_first_and_last_sorted(sentence):\n",
        "    \"\"\"Sorts the words then prints the first and last one.\"\"\"\n",
        "    words = sort_sentence(sentence)\n",
        "    print_first_word(words)\n",
        "    print_last_word(words)"
      ],
      "metadata": {
        "id": "tmiBuNqfBXXv"
      },
      "execution_count": 17,
      "outputs": []
    },
    {
      "cell_type": "code",
      "source": [
        "people = 20\n",
        "cats = 30\n",
        "dogs = 15\n",
        "\n",
        "\n",
        "if people < cats:\n",
        "    print(\"Too many cats! The world is doomed!\")\n",
        "\n",
        "if people > cats:\n",
        "    print(\"Not many cats! The world is saved!\")\n",
        "\n",
        "if people < dogs:\n",
        "    print(\"The world is drooled on!\")\n",
        "\n",
        "if people > dogs:\n",
        "    print(\"The world is dry!\")\n",
        "\n",
        "\n",
        "dogs += 5\n",
        "\n",
        "if people >= dogs:\n",
        "    print(\"People are greater than or equal to dogs.\")\n",
        "\n",
        "if people <= dogs:\n",
        "    print(\"People are less than or equal to dogs.\")\n",
        "\n",
        "\n",
        "if people == dogs:\n",
        "    print(\"People are dogs.\")"
      ],
      "metadata": {
        "colab": {
          "base_uri": "https://localhost:8080/"
        },
        "id": "dNnTTHLMBhGn",
        "outputId": "b68a200c-d616-4c9c-dedf-0ddddabac82f"
      },
      "execution_count": 18,
      "outputs": [
        {
          "output_type": "stream",
          "name": "stdout",
          "text": [
            "Too many cats! The world is doomed!\n",
            "The world is dry!\n",
            "People are greater than or equal to dogs.\n",
            "People are less than or equal to dogs.\n",
            "People are dogs.\n"
          ]
        }
      ]
    },
    {
      "cell_type": "code",
      "source": [
        "people = 30\n",
        "cars = 40\n",
        "trucks = 15\n",
        "\n",
        "\n",
        "if cars > people:\n",
        "    print(\"We should take the cars.\")\n",
        "\n",
        "elif cars < people:\n",
        "    print(\"We should not take the cars.\")\n",
        "else:\n",
        "    print(\"We can't decide.\")\n",
        "\n",
        "if trucks > cars:\n",
        "    print(\"That's too many trucks.\")\n",
        "elif trucks < cars:\n",
        "    print(\"Maybe we could take the trucks.\")\n",
        "else:\n",
        "    print(\"We still can't decide.\")\n",
        "\n",
        "if people > trucks:\n",
        "    print(\"Alright, let's just take the trucks.\")\n",
        "else:\n",
        "    print(\"Fine, let's stay home then.\")"
      ],
      "metadata": {
        "colab": {
          "base_uri": "https://localhost:8080/"
        },
        "id": "1KevJCqyBkZY",
        "outputId": "288bc176-358e-4987-a71d-0ef2c47bffbd"
      },
      "execution_count": 19,
      "outputs": [
        {
          "output_type": "stream",
          "name": "stdout",
          "text": [
            "We should take the cars.\n",
            "Maybe we could take the trucks.\n",
            "Alright, let's just take the trucks.\n"
          ]
        }
      ]
    },
    {
      "cell_type": "code",
      "source": [
        "print(\"\"\"You enter a dark room with two doors.\n",
        "      Do you go through door #1 or door #2?\"\"\")\n",
        "\n",
        "door = input(\"> \")\n",
        "\n",
        "if door == \"1\":\n",
        "    print(\"There's a giant bear here eating a cheese cake.\")\n",
        "    print(\"What do you do?\")\n",
        "    print(\"1. Take the cake.\")\n",
        "    print(\"2. Scream at the bear.\")\n",
        "    \n",
        "    bear = input(\"> \")\n",
        "    \n",
        "    if bear == \"1\":\n",
        "        print(\"The bear eats your face off. Good job!\")\n",
        "    elif bear == \"2\":\n",
        "        print(\"The bear eats your legs off. Good job!\")\n",
        "    else:\n",
        "        print(f\"Well, doing {bear} is probably better.\")\n",
        "        print(\"Bear runs away.\")\n",
        "\n",
        "elif door == \"2\":\n",
        "    print(\"You stare into the endless abyss at Cthulhu's retina.\")\n",
        "    print(\"1. Blueberries.\")\n",
        "    print(\"2. Yellow jacket clothespins.\")\n",
        "    print(\"3. Understanding revolvers yelling melodies.\")\n",
        "    \n",
        "    insanity = input(\"> \")\n",
        "    \n",
        "    if insanity == \"1\" or insanity == \"2\":\n",
        "        print(\"Your body survives powered by a mind of jello.\")\n",
        "        print(\"Good job!\")\n",
        "        \n",
        "    else:\n",
        "        print(\"The insanity rots your eyes into a pool of muck.\")\n",
        "        print(\"Good job!\")\n",
        "\n",
        "else:\n",
        "    print(\"You stumble around and fall on a knife and die. Good job!\")"
      ],
      "metadata": {
        "colab": {
          "base_uri": "https://localhost:8080/"
        },
        "id": "13c_5o9mBncf",
        "outputId": "18c704ea-72dc-4e3d-9e76-a55572e5b407"
      },
      "execution_count": 20,
      "outputs": [
        {
          "output_type": "stream",
          "name": "stdout",
          "text": [
            "You enter a dark room with two doors.\n",
            "      Do you go through door #1 or door #2?\n",
            "> 1\n",
            "There's a giant bear here eating a cheese cake.\n",
            "What do you do?\n",
            "1. Take the cake.\n",
            "2. Scream at the bear.\n",
            "> 2\n",
            "The bear eats your legs off. Good job!\n"
          ]
        }
      ]
    },
    {
      "cell_type": "code",
      "source": [
        "i = 0\n",
        "numbers = []\n",
        "\n",
        "while i < 6:\n",
        "    print(f\"At the top i is {i}\")\n",
        "    numbers.append(i)\n",
        "    \n",
        "    i = i + 1\n",
        "    print(\"Numbers now: \", numbers)\n",
        "    \n",
        "    print(f\"At the bottom i is {i}\")\n",
        "\n",
        "\n",
        "print(\"The numbers: \")\n",
        "\n",
        "for num in numbers:\n",
        "    print(num)"
      ],
      "metadata": {
        "colab": {
          "base_uri": "https://localhost:8080/"
        },
        "id": "v4YL9kIuBwCw",
        "outputId": "c20d1822-a0fd-4ab5-fce7-abe1aca537e5"
      },
      "execution_count": 21,
      "outputs": [
        {
          "output_type": "stream",
          "name": "stdout",
          "text": [
            "At the top i is 0\n",
            "Numbers now:  [0]\n",
            "At the bottom i is 1\n",
            "At the top i is 1\n",
            "Numbers now:  [0, 1]\n",
            "At the bottom i is 2\n",
            "At the top i is 2\n",
            "Numbers now:  [0, 1, 2]\n",
            "At the bottom i is 3\n",
            "At the top i is 3\n",
            "Numbers now:  [0, 1, 2, 3]\n",
            "At the bottom i is 4\n",
            "At the top i is 4\n",
            "Numbers now:  [0, 1, 2, 3, 4]\n",
            "At the bottom i is 5\n",
            "At the top i is 5\n",
            "Numbers now:  [0, 1, 2, 3, 4, 5]\n",
            "At the bottom i is 6\n",
            "The numbers: \n",
            "0\n",
            "1\n",
            "2\n",
            "3\n",
            "4\n",
            "5\n"
          ]
        }
      ]
    },
    {
      "cell_type": "code",
      "source": [
        "ten_things = \"Apples Oranges Crows Telephone Light Sugar\"\n",
        "\n",
        "print(\"Wait there are not 10 things in that list. Let's fix that.\")\n",
        "\n",
        "stuff = ten_things.split(' ')\n",
        "more_stuff = [\"Day\", \"Night\", \"Song\", \"Frisbee\",\n",
        "              \"Corn\", \"Banana\", \"Girl\", \"Boy\"]\n",
        "\n",
        "while len(stuff) != 10:\n",
        "    next_one = more_stuff.pop()\n",
        "    print(\"Adding: \", next_one)\n",
        "    stuff.append(next_one)\n",
        "    print(f\"There are {len(stuff)} items now.\")\n",
        "\n",
        "print(\"There we go: \", stuff)\n",
        "\n",
        "print(\"Let's do some things with stuff.\")\n",
        "\n",
        "print(stuff[1])\n",
        "print(stuff[-1]) # whoa! fancy\n",
        "print(stuff.pop())\n",
        "print(' '.join(stuff)) # what? cool!\n",
        "print('#'.join(stuff[3:5])) # super stellar!"
      ],
      "metadata": {
        "colab": {
          "base_uri": "https://localhost:8080/"
        },
        "id": "7i1VbVniB124",
        "outputId": "45eb4e01-e559-4315-8dce-f286e150782e"
      },
      "execution_count": 22,
      "outputs": [
        {
          "output_type": "stream",
          "name": "stdout",
          "text": [
            "Wait there are not 10 things in that list. Let's fix that.\n",
            "Adding:  Boy\n",
            "There are 7 items now.\n",
            "Adding:  Girl\n",
            "There are 8 items now.\n",
            "Adding:  Banana\n",
            "There are 9 items now.\n",
            "Adding:  Corn\n",
            "There are 10 items now.\n",
            "There we go:  ['Apples', 'Oranges', 'Crows', 'Telephone', 'Light', 'Sugar', 'Boy', 'Girl', 'Banana', 'Corn']\n",
            "Let's do some things with stuff.\n",
            "Oranges\n",
            "Corn\n",
            "Corn\n",
            "Apples Oranges Crows Telephone Light Sugar Boy Girl Banana\n",
            "Telephone#Light\n"
          ]
        }
      ]
    },
    {
      "cell_type": "code",
      "source": [
        "class Song(object):\n",
        "    def __init__(self, lyrics):\n",
        "        self.lyrics = lyrics\n",
        "        \n",
        "    def sing_me_a_song(self):\n",
        "            for line in self.lyrics:\n",
        "                print(line)\n",
        "\n",
        "happy_bday = Song([\"Happy birthday to you\",\n",
        "                   \"I don't want to get sued\",\n",
        "                   \"So I'll stop right there\"])\n",
        "\n",
        "bulls_on_parade = Song([\"They rally around tha family\",\n",
        "                        \"With pockets full of shells\"])\n",
        "\n",
        "happy_bday.sing_me_a_song()\n",
        "\n",
        "bulls_on_parade.sing_me_a_song()"
      ],
      "metadata": {
        "colab": {
          "base_uri": "https://localhost:8080/"
        },
        "id": "_XtY_FrQB41v",
        "outputId": "07b91cb9-9ba7-4f3d-e571-380723e1f75a"
      },
      "execution_count": 23,
      "outputs": [
        {
          "output_type": "stream",
          "name": "stdout",
          "text": [
            "Happy birthday to you\n",
            "I don't want to get sued\n",
            "So I'll stop right there\n",
            "They rally around tha family\n",
            "With pockets full of shells\n"
          ]
        }
      ]
    },
    {
      "cell_type": "code",
      "source": [
        "class Parent(object):\n",
        "    def override(self):\n",
        "        print(\"PARENT override()\")\n",
        "        \n",
        "    def implicit(self):\n",
        "        print(\"PARENT implicit()\")\n",
        "        \n",
        "    def altered(self):\n",
        "        print(\"PARENT altered()\")\n",
        "\n",
        "class Child(Parent):\n",
        "    \n",
        "    def override(self):\n",
        "        print(\"CHILD override()\")\n",
        "        \n",
        "    def altered(self):\n",
        "        print(\"CHILD, BEFORE PARENT altered()\")\n",
        "        super(Child, self).altered()\n",
        "        print(\"CHILD, AFTER PARENT altered()\")\n",
        "\n",
        "dad = Parent()\n",
        "son = Child()\n",
        "\n",
        "dad.implicit()\n",
        "son.implicit()\n",
        "\n",
        "dad.override()\n",
        "son.override()\n",
        "\n",
        "dad.altered()\n",
        "son.altered()"
      ],
      "metadata": {
        "colab": {
          "base_uri": "https://localhost:8080/"
        },
        "id": "DSjBjXMqB8cA",
        "outputId": "ce75ab95-d091-49a9-9108-590d3c1beb6c"
      },
      "execution_count": 24,
      "outputs": [
        {
          "output_type": "stream",
          "name": "stdout",
          "text": [
            "PARENT implicit()\n",
            "PARENT implicit()\n",
            "PARENT override()\n",
            "CHILD override()\n",
            "PARENT altered()\n",
            "CHILD, BEFORE PARENT altered()\n",
            "PARENT altered()\n",
            "CHILD, AFTER PARENT altered()\n"
          ]
        }
      ]
    },
    {
      "cell_type": "code",
      "source": [],
      "metadata": {
        "id": "DSpQf_aLB_eA"
      },
      "execution_count": null,
      "outputs": []
    }
  ],
  "metadata": {
    "colab": {
      "name": "Te damos la bienvenida a Colaboratory",
      "toc_visible": true,
      "provenance": []
    },
    "kernelspec": {
      "display_name": "Python 3",
      "name": "python3"
    }
  },
  "nbformat": 4,
  "nbformat_minor": 0
}